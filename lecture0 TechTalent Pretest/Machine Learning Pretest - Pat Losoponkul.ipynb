{
 "cells": [
  {
   "cell_type": "markdown",
   "metadata": {},
   "source": [
    "# Machine Learning Pretest\n",
    "## First Part: Multiple Choices\n",
    "## https://goo.gl/forms/L3L2RH9NMQtGPe4I2"
   ]
  },
  {
   "cell_type": "markdown",
   "metadata": {},
   "source": [
    "## Second Part: Coding Exercise"
   ]
  },
  {
   "cell_type": "markdown",
   "metadata": {},
   "source": [
    "## Exercise 1\n",
    "### Simulate N coin flips and count number of head and number of tail"
   ]
  },
  {
   "cell_type": "code",
   "execution_count": 15,
   "metadata": {},
   "outputs": [
    {
     "data": {
      "text/plain": [
       "(491, 509)"
      ]
     },
     "execution_count": 15,
     "metadata": {},
     "output_type": "execute_result"
    }
   ],
   "source": [
    "def simulate_coin_flips(N, p):\n",
    "    p_isHead = True\n",
    "    if p_isHead:\n",
    "        p_head = p\n",
    "        p_tail = 1 - p\n",
    "    else:\n",
    "        p_head = 1 - p\n",
    "        p_tail = p\n",
    "    \n",
    "    import numpy as np\n",
    "    \n",
    "    outcome = [np.random.choice(['head', 'tail'], p = (p_head, p_tail)) for _ in range(N)]\n",
    "    head_count = len(list(filter(lambda x: x == 'head', outcome)))\n",
    "    tail_count = N - head_count\n",
    "    \n",
    "    return (head_count, tail_count)\n",
    "\n",
    "simulate_coin_flips(1000, 0.5)"
   ]
  },
  {
   "cell_type": "markdown",
   "metadata": {},
   "source": [
    "## Exercise 2\n",
    "### Write a program to simulate data and answer this question: How many coin flips on average does it take to get n consecutive heads?"
   ]
  },
  {
   "cell_type": "code",
   "execution_count": 25,
   "metadata": {},
   "outputs": [
    {
     "name": "stdout",
     "output_type": "stream",
     "text": [
      "62.66\n"
     ]
    }
   ],
   "source": [
    "def average_coin_flips_until_n_heads(n, p):\n",
    "    p_isHead = True\n",
    "    if p_isHead:\n",
    "        p_head = p\n",
    "        p_tail = 1 - p\n",
    "    else:\n",
    "        p_head = 1 - p\n",
    "        p_tail = p\n",
    "    \n",
    "    import numpy as np\n",
    "\n",
    "    # simulate multiple times\n",
    "    n_simulate = 50\n",
    "    flip_count_list = list()\n",
    "    for _ in range(n_simulate):\n",
    "        # init each simulation\n",
    "        head_consec_count = 0\n",
    "        \n",
    "        # simulate flip\n",
    "        flip_count = 0\n",
    "        while head_consec_count != n:\n",
    "            flip_count += 1\n",
    "            outcome = np.random.choice(['head', 'tail'], p = (p_head, p_tail))\n",
    "\n",
    "            if outcome == 'head':\n",
    "                head_consec_count += 1\n",
    "            else:\n",
    "                head_consec_count = 0\n",
    "\n",
    "            # terminate if found n consecutive head\n",
    "            if head_consec_count == n:\n",
    "                break\n",
    "        \n",
    "        # store flipt count\n",
    "        flip_count_list.append(flip_count)\n",
    "    \n",
    "    # calculate average, return\n",
    "    return np.mean(flip_count_list)\n",
    "\n",
    "print(average_coin_flips_until_n_heads(5, 0.5))"
   ]
  },
  {
   "cell_type": "markdown",
   "metadata": {},
   "source": [
    "## Exercise 3\n",
    "### Fit linear regression on the simulated data below and show that the fitted parameters are correct"
   ]
  },
  {
   "cell_type": "code",
   "execution_count": 29,
   "metadata": {
    "collapsed": true
   },
   "outputs": [],
   "source": [
    "import numpy as np\n",
    "\n",
    "x = np.random.normal(size=(100,2))\n",
    "y = 4 + 3 * x[:,0] + 5 * x[:,1]"
   ]
  },
  {
   "cell_type": "code",
   "execution_count": 32,
   "metadata": {},
   "outputs": [
    {
     "name": "stdout",
     "output_type": "stream",
     "text": [
      "Coefficients = [ 3.  5.]\n",
      "Intercept = 3.9999999999999996\n"
     ]
    }
   ],
   "source": [
    "from sklearn import linear_model\n",
    "reg = linear_model.LinearRegression()\n",
    "reg.fit (x, y)\n",
    "\n",
    "print('Coefficients = {}'.format(reg.coef_))\n",
    "print('Intercept = {}'.format(reg.intercept_))"
   ]
  },
  {
   "cell_type": "markdown",
   "metadata": {},
   "source": [
    "## Exercise 4\n",
    "### Given credit card fraud data below, fit a classification model on the trainData and evaluate the model on the testData using Area under curve of ROC (AUC) as a metric\n",
    "### The label column is \"Class\" and other columns are anonymized features\n",
    "### The data is sample from this dataset: https://www.kaggle.com/dalpozz/creditcardfraud"
   ]
  },
  {
   "cell_type": "code",
   "execution_count": null,
   "metadata": {
    "collapsed": true
   },
   "outputs": [],
   "source": [
    "import pandas as pd"
   ]
  },
  {
   "cell_type": "code",
   "execution_count": null,
   "metadata": {
    "collapsed": true
   },
   "outputs": [],
   "source": [
    "trainData = pd.read_csv(\"trainData.csv\")"
   ]
  },
  {
   "cell_type": "code",
   "execution_count": null,
   "metadata": {
    "collapsed": true
   },
   "outputs": [],
   "source": [
    "testData = pd.read_csv(\"testData.csv\")"
   ]
  },
  {
   "cell_type": "code",
   "execution_count": null,
   "metadata": {
    "collapsed": true
   },
   "outputs": [],
   "source": [
    "\"\"\"\n",
    "YOUR CODE HERE\n",
    "\"\"\""
   ]
  }
 ],
 "metadata": {
  "kernelspec": {
   "display_name": "Python 3",
   "language": "python",
   "name": "python3"
  },
  "language_info": {
   "codemirror_mode": {
    "name": "ipython",
    "version": 3
   },
   "file_extension": ".py",
   "mimetype": "text/x-python",
   "name": "python",
   "nbconvert_exporter": "python",
   "pygments_lexer": "ipython3",
   "version": "3.6.2"
  }
 },
 "nbformat": 4,
 "nbformat_minor": 2
}
